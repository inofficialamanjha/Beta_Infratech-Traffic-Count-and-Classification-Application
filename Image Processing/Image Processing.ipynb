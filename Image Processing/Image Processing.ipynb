{
 "cells": [
  {
   "cell_type": "code",
   "execution_count": 19,
   "id": "flexible-exploration",
   "metadata": {},
   "outputs": [],
   "source": [
    "import cv2 as cv, os, numpy as np\n",
    "\n",
    "import skimage\n",
    "from skimage import measure"
   ]
  },
  {
   "cell_type": "markdown",
   "id": "annoying-daily",
   "metadata": {},
   "source": [
    "# Contrast Enhancement\n",
    "\n",
    "DIP Technique 1"
   ]
  },
  {
   "cell_type": "code",
   "execution_count": 15,
   "id": "jewish-depression",
   "metadata": {},
   "outputs": [],
   "source": [
    "def contrast_enhancement(img) :\n",
    "    \n",
    "    equ_img = cv.equalizeHist(img) # Applying Histogram Equalization\n",
    "    \n",
    "    clahe = cv.createCLAHE(clipLimit=2.0, tileGridSize=(8,8))\n",
    "    clahe_img = clahe.apply(equ_img) # Applying contrast enhancement\n",
    "    \n",
    "    return equ_img"
   ]
  },
  {
   "cell_type": "code",
   "execution_count": 16,
   "id": "rough-baseball",
   "metadata": {},
   "outputs": [
    {
     "name": "stdout",
     "output_type": "stream",
     "text": [
      "Day 1 Grey.jpg\n",
      "Day 1.jpg\n",
      "Day 2 Grey.jpg\n",
      "Day 2.jpg\n",
      "Day 3 Grey.jpg\n",
      "Day 3.jpg\n",
      "Night 1 Grey.jpg\n",
      "Night 1.jpg\n",
      "Night 2 Grey.jpg\n",
      "Night 2.jpg\n",
      "Night 3 Grey.jpg\n",
      "Night 3.jpg\n",
      "Night 4.jpg\n"
     ]
    }
   ],
   "source": [
    "images_dir_path = r\"C:\\Local Disk\\Programming\\Infratech project\\Image Processing\\DIP Technique 1 - Contrast Enhancement\\test images\"\n",
    "\n",
    "for img_file_name in os.listdir(images_dir_path) :\n",
    "    print(img_file_name)\n",
    "    img = cv.imread(os.path.join(images_dir_path,img_file_name),0)\n",
    "    img = contrast_enhancement(img)\n",
    "    cv.imwrite(os.path.join(images_dir_path,img_file_name[:-4]+'_enhanced.jpg'),img)"
   ]
  },
  {
   "cell_type": "markdown",
   "id": "after-legend",
   "metadata": {},
   "source": [
    "# Glare Reduction"
   ]
  },
  {
   "cell_type": "code",
   "execution_count": 21,
   "id": "greenhouse-apparatus",
   "metadata": {},
   "outputs": [],
   "source": [
    "def glare_reduction(image) :\n",
    "    \n",
    "    gray = cv.cvtColor(image, cv2.COLOR_BGR2GRAY)\n",
    "    \n",
    "    image = image.astype(np.float32)/255\n",
    "    \n",
    "    blur_img = cv.GaussianBlur(gray,(9,9),0)\n",
    "    _, thresh_img = cv2.threshold(blur_img, 200, 255, cv.THRESH_BINARY)\n",
    "    \n",
    "    labels = measure.label( thresh_img, connectivity=2, background=0 )\n",
    "    mask = np.zeros( thresh_img.shape, dtype=\"uint8\" )\n",
    "\n",
    "    for label in np.unique( labels ):\n",
    "        # if this is the background label, ignore it\n",
    "        if label == 0:\n",
    "            continue\n",
    "            \n",
    "        # otherwise, construct the label mask and count the\n",
    "        # number of pixels\n",
    "        labelMask = np.zeros( thresh_img.shape, dtype=\"uint8\" )\n",
    "        labelMask[labels == label] = 255\n",
    "        numPixels = cv2.countNonZero( labelMask )\n",
    "        \n",
    "        # if the number of pixels in the component is sufficiently\n",
    "        # large, then add it to our mask of \"large blobs\"\n",
    "        if numPixels > 300:\n",
    "            mask = cv2.add( mask, labelMask )\n",
    "            \n",
    "    \n",
    "    contours, hierarchy = cv2.findContours(mask, cv2.RETR_TREE, cv2.CHAIN_APPROX_SIMPLE)     \n",
    "    #print(contours)\n",
    "    #print(hierarchy)\n",
    "\n",
    "    cv2.drawContours(image, contours, -1, (0, 255, 0), 2)\n",
    "    \n",
    "    gray1 = gray\n",
    "\n",
    "    for contour in contours:\n",
    "        x,y,w,h = cv2.boundingRect(contour)\n",
    "        image = cv2.rectangle(image,(x,y),(x+w,y+h),(0,255,0),2)\n",
    "        #print(\"width: \" , w)\n",
    "        #print(\"height: \", h)\n",
    "\n",
    "        roi = gray[y:(y+h), x:(x+w)]\n",
    "        #roi = cv2.resize(roi, (640, 480))\n",
    "        #roi = cv2.cvtColor(roi, cv2.COLOR_RGB2GRAY)\n",
    "        #cv2.imshow(\"roi\", roi)\n",
    "        #print(roi)\n",
    "\n",
    "\n",
    "        alpha = 0.7 # Contrast control (1.0-3.0)\n",
    "        beta = 45 # Brightness control (0-100)\n",
    "\n",
    "        contrast_adjust = cv2.convertScaleAbs(roi, alpha=alpha, beta=beta)\n",
    "        #contrast_adjust = cv2.convertScaleAbs(roi)\n",
    "\n",
    "        denoised_img = cv2.fastNlMeansDenoising(contrast_adjust,None,10,7,21)\n",
    "\n",
    "        #cv2.imshow(\"contrast\", contrast_adjust)\n",
    "        #print(contrast_adjust)\n",
    "        #cv2.imshow(\"denoised_img\", denoised_img)\n",
    "\n",
    "\n",
    "        gray = gray.copy()\n",
    "        gray1 = gray\n",
    "        gray[y: y + h, x: x + w] = contrast_adjust\n",
    "        gray1[y: y + h, x: x + w] = denoised_img # important for us\n",
    "        \n",
    "    return gray1"
   ]
  },
  {
   "cell_type": "code",
   "execution_count": 22,
   "id": "synthetic-bidder",
   "metadata": {},
   "outputs": [
    {
     "name": "stdout",
     "output_type": "stream",
     "text": [
      "Day 1 Grey.jpg\n",
      "Day 1.jpg\n",
      "Day 2 Grey.jpg\n",
      "Day 2.jpg\n",
      "Day 3 Grey.jpg\n",
      "Day 3.jpg\n",
      "Night 1 Grey.jpg\n",
      "Night 1.jpg\n",
      "Night 2 Grey.jpg\n",
      "Night 2.jpg\n",
      "Night 3 Grey.jpg\n",
      "Night 3.jpg\n",
      "Night 4.jpg\n"
     ]
    }
   ],
   "source": [
    "images_dir_path = r\"C:\\Local Disk\\Programming\\Infratech project\\Image Processing\\DIP Technique 2 - Glare Reduction\\test images\"\n",
    "\n",
    "for img_file_name in os.listdir(images_dir_path) :\n",
    "    print(img_file_name)\n",
    "    img = cv.imread(os.path.join(images_dir_path,img_file_name))\n",
    "    img = glare_reduction(img)\n",
    "    cv.imwrite(os.path.join(images_dir_path,img_file_name[:-4]+'_enhanced.jpg'),img)"
   ]
  }
 ],
 "metadata": {
  "kernelspec": {
   "display_name": "Python 3",
   "language": "python",
   "name": "python3"
  },
  "language_info": {
   "codemirror_mode": {
    "name": "ipython",
    "version": 3
   },
   "file_extension": ".py",
   "mimetype": "text/x-python",
   "name": "python",
   "nbconvert_exporter": "python",
   "pygments_lexer": "ipython3",
   "version": "3.8.7"
  }
 },
 "nbformat": 4,
 "nbformat_minor": 5
}
