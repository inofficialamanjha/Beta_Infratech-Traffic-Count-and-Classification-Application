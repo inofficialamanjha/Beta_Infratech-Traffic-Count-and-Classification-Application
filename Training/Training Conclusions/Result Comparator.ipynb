{
 "cells": [
  {
   "cell_type": "code",
   "execution_count": 3,
   "id": "instructional-collectible",
   "metadata": {},
   "outputs": [],
   "source": [
    "import os, matplotlib, math"
   ]
  },
  {
   "cell_type": "markdown",
   "id": "adequate-basics",
   "metadata": {},
   "source": [
    "# 17 CLASSES : 0 to 16 Index\n",
    "\n",
    "\n",
    "# Day Time : Total\n",
    "\n",
    "- Cycle { 'CYCLE' / 'cycle'} : 4,855\n",
    "- Two wheeler { '2W' / 'twowheeler' } : 74,016\n",
    "- Cycle Rickshaw { 'R_CYCLE' / 'cyclerickshaw' } : 283\n",
    "- E-Rickshaw { 'E-RICKSHAW' / 'erickshaw' } : 710\n",
    "- Hand Cart { 'HAND-CART' /  'handcart' } : 350\n",
    "- Auto Rickshaw { 'AUTO' / 'auto' } : 44,492\n",
    "- Commercial Auto { 'FREIGHT-AUTO' / 'commercialauto' } : 4,024\n",
    "- Four Wheeler { 'CAR-JEEP-VAN' / 'fourwheeler' } : 75,213\n",
    "- Mini Light Commercial Vehicle { 'MINI-LCV' / 'minilcv' } : 8,463\n",
    "- Light Commercial Vehicle { 'LCV' / 'lcv' } : 8,010\n",
    "- Bus { 'BUS' / 'bus' } : 3,311\n",
    "- Two Axle Trucks { '2AXLE' / 'twoaxle' } : 3,252\n",
    "- Three Axle Trucks { '3AXLE' / 'threeaxle' } : 1,655\n",
    "- Four to Six Axle Trucks { '4-6AXLE' / 'moreaxle' } : 2,112\n",
    "- More than Six Axle Trucks { OVERSIZE-AXLE' / 'containers' } : 17\n",
    "- Heavy Class Machinery - The Corps of Electronics and Mechanical Engineers ( Indian Army ) Vehicles { 'HCM-EME' / 'hcm' } : 2,326\n",
    "- Tractor with Trailer { 'WITH-TRAILER' / 'farmtractorwith' } : 209\n",
    "\n",
    "\n",
    "# Night Time : Total\n",
    "\n",
    "- Cycle { 'CYCLE' / 'cycle'} : 1,997\n",
    "- Two wheeler { '2W' / 'twowheeler' } : 26,799\n",
    "- Cycle Rickshaw { 'R_CYCLE' / 'cyclerickshaw' } : 209\n",
    "- E-Rickshaw { 'E-RICKSHAW' / 'erickshaw' } : 778\n",
    "- Hand Cart { 'HAND-CART' /  'handcart' } : 62\n",
    "- Auto Rickshaw { 'AUTO' / 'auto' } : 14,614\n",
    "- Commercial Auto { 'FREIGHT-AUTO' / 'commercialauto' } : 496\n",
    "- Four Wheeler { 'CAR-JEEP-VAN' / 'fourwheeler' } : 48,758\n",
    "- Mini Light Commercial Vehicle { 'MINI-LCV' / 'minilcv' } : 2,805\n",
    "- Light Commercial Vehicle { 'LCV' / 'lcv' } : 3,120\n",
    "- Mini Bus { 'MINI-BUS' / 'minibus } : 313\n",
    "- Bus { 'BUS' / 'bus' } : 1,915\n",
    "- Two Axle Trucks { '2AXLE' / 'twoaxle' } : 1,713\n",
    "- Three Axle Trucks { '3AXLE' / 'threeaxle' } : 888\n",
    "- Four to Six Axle Trucks { '4-6AXLE' / 'moreaxle' } : 1,034\n",
    "- Heavy Class Machinery - The Corps of Electronics and Mechanical Engineers ( Indian Army ) Vehicles { 'HCM-EME' / 'hcm' } : 9\n",
    "- Tractor with Trailer { 'WITH-TRAILER' / 'farmtractorwith' } : 0"
   ]
  },
  {
   "cell_type": "code",
   "execution_count": 4,
   "id": "excess-recipe",
   "metadata": {},
   "outputs": [],
   "source": [
    "day_count_17_classes = [4885, 74016, 283, 710, 350, 44492, 4024, 75213, 8463, 8010, 3311, 3252, 1655, 2112, 17, 2326, 209]\n",
    "\n",
    "night_count_17_classes = [ 1997, 26799, 209, 778, 62, 14614, 496, 48758, 2805, 3120, 313, 1915, 1713, 888, 1034, 7, 9, 0 ]"
   ]
  },
  {
   "cell_type": "code",
   "execution_count": 5,
   "id": "charged-union",
   "metadata": {},
   "outputs": [],
   "source": [
    "total_count_day_17_classes = sum(day_count_17_classes)\n",
    "\n",
    "total_count_night_17_classes = sum(night_count_17_classes)"
   ]
  },
  {
   "cell_type": "code",
   "execution_count": 6,
   "id": "average-proceeding",
   "metadata": {},
   "outputs": [],
   "source": [
    "normalized_count_day_17_classes = []\n",
    "\n",
    "normalized_count_night_17_classes = []\n",
    "\n",
    "for i in range(17) :\n",
    "    \n",
    "    normalized_count_day_17_classes.append( day_count_17_classes[i] / total_count_day_17_classes )\n",
    "    normalized_count_night_17_classes.append( night_count_17_classes[i] / total_count_night_17_classes )"
   ]
  },
  {
   "cell_type": "markdown",
   "id": "sealed-characteristic",
   "metadata": {},
   "source": [
    "# 12 Classes : 0,1,3,5,6,7,8,9,11 Index\n",
    "\n",
    "- Cycle { 'CYCLE' / 'cycle'}\n",
    "- Two wheeler { '2W' / 'twowheeler' }\n",
    "- E-Rickshaw { 'E-RICKSHAW' / 'erickshaw' }\n",
    "- Auto Rickshaw { 'AUTO' / 'auto' }\n",
    "- Commercial Auto { 'FREIGHT-AUTO' / 'commercialauto' }\n",
    "- Four Wheeler { 'CAR-JEEP-VAN' / 'fourwheeler' }\n",
    "- Mini Light Commercial Vehicle { 'MINI-LCV' / 'minilcv' }\n",
    "- Light Commercial Vehicle { 'LCV' / 'lcv' }\n",
    "- Bus { 'BUS' / 'bus' }"
   ]
  },
  {
   "cell_type": "code",
   "execution_count": 17,
   "id": "thousand-carol",
   "metadata": {},
   "outputs": [],
   "source": [
    "day_count_9_classes = []\n",
    "\n",
    "night_count_9_classes = []\n",
    "\n",
    "for i in (0,1,3,5,6,7,8,9,11) :\n",
    "    \n",
    "    day_count_9_classes.append(day_count_17_classes[i])\n",
    "    night_count_9_classes.append(night_count_17_classes[i])"
   ]
  },
  {
   "cell_type": "code",
   "execution_count": 18,
   "id": "central-official",
   "metadata": {},
   "outputs": [],
   "source": [
    "total_count_day_9_classes = sum(day_count_9_classes)\n",
    "\n",
    "total_count_night_9_classes = sum(night_count_9_classes)"
   ]
  },
  {
   "cell_type": "code",
   "execution_count": 19,
   "id": "activated-broadcasting",
   "metadata": {},
   "outputs": [],
   "source": [
    "normalized_count_day_9_classes = []\n",
    "\n",
    "normalized_count_night_9_classes = []\n",
    "\n",
    "for i in range(9) :\n",
    "    normalized_count_day_9_classes.append( day_count_9_classes[i] / total_count_day_9_classes )\n",
    "    normalized_count_night_9_classes.append( night_count_9_classes[i] / total_count_night_9_classes )"
   ]
  },
  {
   "cell_type": "markdown",
   "id": "insured-creativity",
   "metadata": {},
   "source": [
    "# Ideal Confusion Matrix\n",
    "\n",
    "- During Testing of Confusion matrix diagonal for day and night respectively, the one with the lowest standard would be considered superior.\n",
    "\n",
    "- Standard : ( Weighted Standard Deviation ) * 100"
   ]
  },
  {
   "cell_type": "code",
   "execution_count": 10,
   "id": "tracked-solid",
   "metadata": {},
   "outputs": [],
   "source": [
    "ideal_confusion_matrix_diagonal_17 = [1] * 20\n",
    "                            \n",
    "ideal_confusion_matrix_diagonal_9 = [1] * 12"
   ]
  },
  {
   "cell_type": "markdown",
   "id": "acknowledged-vault",
   "metadata": {},
   "source": [
    "# Calculate Standard for 17 Classes - Day"
   ]
  },
  {
   "cell_type": "code",
   "execution_count": 25,
   "id": "conscious-escape",
   "metadata": {},
   "outputs": [],
   "source": [
    "confusion_matrix_diagonal = [0.27,0.51,0,0.93,0,0.75,0.57,0.70,0.46,0.40,0,0.67,0,0,0,0,0] "
   ]
  },
  {
   "cell_type": "code",
   "execution_count": 26,
   "id": "tribal-calgary",
   "metadata": {},
   "outputs": [
    {
     "name": "stdout",
     "output_type": "stream",
     "text": [
      "44.70930602638602\n"
     ]
    }
   ],
   "source": [
    "standard = 0\n",
    "\n",
    "for i in range(17) :\n",
    "    \n",
    "    standard = standard + normalized_count_day_17_classes[i] * ((ideal_confusion_matrix_diagonal_17[i] - confusion_matrix_diagonal[i])**2)\n",
    "    \n",
    "standard = math.sqrt(standard)\n",
    "\n",
    "print(standard*100)"
   ]
  },
  {
   "cell_type": "markdown",
   "id": "quarterly-tribune",
   "metadata": {},
   "source": [
    "# Calculate Standard for 17 Classes - Night"
   ]
  },
  {
   "cell_type": "code",
   "execution_count": 15,
   "id": "pleased-garden",
   "metadata": {},
   "outputs": [],
   "source": [
    "confusion_matrix_diagonal = [0.07,0.22,0.04,0.15,0,0.33,0.04,0.39,0.17,0.07,0.09,0.39,0,0.06,0,0,0] "
   ]
  },
  {
   "cell_type": "code",
   "execution_count": 16,
   "id": "physical-sample",
   "metadata": {},
   "outputs": [
    {
     "name": "stdout",
     "output_type": "stream",
     "text": [
      "70.97848141554444\n"
     ]
    }
   ],
   "source": [
    "standard = 0\n",
    "\n",
    "for i in range(17) :\n",
    "    \n",
    "    standard = standard + normalized_count_night_17_classes[i] * ((ideal_confusion_matrix_diagonal_17[i] - confusion_matrix_diagonal[i])**2)\n",
    "    \n",
    "standard = math.sqrt(standard)\n",
    "\n",
    "print(standard*100)"
   ]
  },
  {
   "cell_type": "markdown",
   "id": "faced-release",
   "metadata": {},
   "source": [
    "# Calculate Standard for 9 Classes - Day"
   ]
  },
  {
   "cell_type": "code",
   "execution_count": 27,
   "id": "becoming-tampa",
   "metadata": {},
   "outputs": [],
   "source": [
    "confusion_matrix_diagonal = [0.11,0.11,0.38,0,0,0,0,0,0.03] "
   ]
  },
  {
   "cell_type": "code",
   "execution_count": 28,
   "id": "billion-worship",
   "metadata": {},
   "outputs": [
    {
     "name": "stdout",
     "output_type": "stream",
     "text": [
      "96.10629769125913\n"
     ]
    }
   ],
   "source": [
    "standard = 0\n",
    "\n",
    "for i in range(9) :\n",
    "    \n",
    "    standard = standard + normalized_count_day_9_classes[i] * ((ideal_confusion_matrix_diagonal_9[i] - confusion_matrix_diagonal[i])**2)\n",
    "    \n",
    "standard = math.sqrt(standard)\n",
    "\n",
    "print(standard*100)"
   ]
  },
  {
   "cell_type": "markdown",
   "id": "pending-valentine",
   "metadata": {},
   "source": [
    "# Calculate Standard for 9 Classes - Night"
   ]
  },
  {
   "cell_type": "code",
   "execution_count": 22,
   "id": "european-latvia",
   "metadata": {},
   "outputs": [],
   "source": [
    "confusion_matrix_diagonal = [0.27,0.19,0.49,0.50,0.23,0.58,0.17,0.11,0.21] "
   ]
  },
  {
   "cell_type": "code",
   "execution_count": 23,
   "id": "twenty-reception",
   "metadata": {},
   "outputs": [
    {
     "name": "stdout",
     "output_type": "stream",
     "text": [
      "60.43876729654879\n"
     ]
    }
   ],
   "source": [
    "standard = 0\n",
    "\n",
    "for i in range(9) :\n",
    "    \n",
    "    standard = standard + normalized_count_night_9_classes[i] * ((ideal_confusion_matrix_diagonal_9[i] - confusion_matrix_diagonal[i])**2)\n",
    "    \n",
    "standard = math.sqrt(standard)\n",
    "\n",
    "print(standard*100)"
   ]
  },
  {
   "cell_type": "markdown",
   "id": "provincial-motorcycle",
   "metadata": {},
   "source": [
    "# Calculate Accuracy - 17 Classes Day"
   ]
  },
  {
   "cell_type": "code",
   "execution_count": 29,
   "id": "silent-argument",
   "metadata": {},
   "outputs": [],
   "source": [
    "confusion_matrix_diagonal = [0.42,0.68,0,0.96,0,0.88,0.69,0.80,0.57,0.52,0,0.75,0,0,0,0,0] "
   ]
  },
  {
   "cell_type": "code",
   "execution_count": 30,
   "id": "previous-winning",
   "metadata": {},
   "outputs": [
    {
     "name": "stdout",
     "output_type": "stream",
     "text": [
      "0.713982933895632\n"
     ]
    }
   ],
   "source": [
    "accuracy = 0\n",
    "\n",
    "for i in range(17) :\n",
    "    \n",
    "    accuracy = accuracy + normalized_count_day_17_classes[i]*confusion_matrix_diagonal[i]\n",
    "\n",
    "accuracy = accuracy\n",
    "\n",
    "print(accuracy)"
   ]
  },
  {
   "cell_type": "markdown",
   "id": "durable-brazil",
   "metadata": {},
   "source": [
    "# Calculate Accuracy - 9 Classes Night"
   ]
  },
  {
   "cell_type": "code",
   "execution_count": 33,
   "id": "liked-ghana",
   "metadata": {},
   "outputs": [],
   "source": [
    "confusion_matrix_diagonal = [0.14,0.35,0.18,0.37,0.06,0.48,0.23,0.17,0.53] "
   ]
  },
  {
   "cell_type": "code",
   "execution_count": 34,
   "id": "homeless-freight",
   "metadata": {},
   "outputs": [
    {
     "name": "stdout",
     "output_type": "stream",
     "text": [
      "0.40313728006950894\n"
     ]
    }
   ],
   "source": [
    "accuracy = 0\n",
    "\n",
    "for i in range(9) :\n",
    "    \n",
    "    accuracy = accuracy + normalized_count_night_9_classes[i]*confusion_matrix_diagonal[i]\n",
    "\n",
    "accuracy = accuracy\n",
    "\n",
    "print(accuracy)"
   ]
  }
 ],
 "metadata": {
  "kernelspec": {
   "display_name": "Python 3",
   "language": "python",
   "name": "python3"
  },
  "language_info": {
   "codemirror_mode": {
    "name": "ipython",
    "version": 3
   },
   "file_extension": ".py",
   "mimetype": "text/x-python",
   "name": "python",
   "nbconvert_exporter": "python",
   "pygments_lexer": "ipython3",
   "version": "3.8.7"
  }
 },
 "nbformat": 4,
 "nbformat_minor": 5
}
